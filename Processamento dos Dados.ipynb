{
 "cells": [
  {
   "cell_type": "code",
   "execution_count": 1,
   "metadata": {},
   "outputs": [
    {
     "name": "stdout",
     "output_type": "stream",
     "text": [
      "                 index  hourly_demand\n",
      "0  2000-01-01 00:00:00        34673.9\n",
      "1  2000-01-01 01:00:00        33503.0\n",
      "2  2000-01-01 02:00:00        32287.6\n",
      "3  2000-01-01 03:00:00        31059.4\n",
      "4  2000-01-01 04:00:00        30272.7\n"
     ]
    }
   ],
   "source": [
    "import pandas as pd\n",
    "\n",
    "# Carregar o arquivo CSV\n",
    "df = pd.read_csv('energy_demand_hourly_brazil.csv')\n",
    "\n",
    "# Visualizar as primeiras linhas para confirmar o carregamento\n",
    "print(df.head())\n"
   ]
  },
  {
   "cell_type": "code",
   "execution_count": 2,
   "metadata": {},
   "outputs": [
    {
     "name": "stdout",
     "output_type": "stream",
     "text": [
      "                     hourly_demand\n",
      "index                             \n",
      "2000-01-01 00:00:00        34673.9\n",
      "2000-01-01 01:00:00        33503.0\n",
      "2000-01-01 02:00:00        32287.6\n",
      "2000-01-01 03:00:00        31059.4\n",
      "2000-01-01 04:00:00        30272.7\n"
     ]
    }
   ],
   "source": [
    "# Converter a coluna \"Data\" para datetime e definir como índice\n",
    "df['index'] = pd.to_datetime(df['index'], errors='coerce')  # Tratar valores inválidos\n",
    "df = df.dropna(subset=['index'])  # Remover valores inválidos\n",
    "df.set_index('index', inplace=True)\n",
    "\n",
    "# Visualizar o dataframe após a transformação\n",
    "print(df.head())"
   ]
  },
  {
   "cell_type": "code",
   "execution_count": 3,
   "metadata": {},
   "outputs": [
    {
     "name": "stdout",
     "output_type": "stream",
     "text": [
      "Número de dados selecionados: 6000\n",
      "                     hourly_demand\n",
      "index                             \n",
      "2022-04-26 01:00:00      65738.635\n",
      "2022-04-26 02:00:00      63941.485\n",
      "2022-04-26 03:00:00      62740.118\n",
      "2022-04-26 04:00:00      62905.592\n",
      "2022-04-26 05:00:00      64536.909\n"
     ]
    }
   ],
   "source": [
    "# Selecionar a quantidade de Dados\n",
    "n_dados = 6000 \n",
    "df_cortado = df.tail(n_dados)\n",
    "\n",
    "# Verificar a quantidade de dados após o corte\n",
    "print(f\"Número de dados selecionados: {len(df_cortado)}\")\n",
    "print(df_cortado.head())"
   ]
  },
  {
   "cell_type": "code",
   "execution_count": 4,
   "metadata": {},
   "outputs": [
    {
     "name": "stdout",
     "output_type": "stream",
     "text": [
      "Arquivo exportado com sucesso: dataframe.csv\n"
     ]
    }
   ],
   "source": [
    "# Exportar o dataframe cortado para um novo arquivo CSV\n",
    "output_csv = 'dataframe.csv'  # Nome do arquivo de saída\n",
    "df_cortado.to_csv(output_csv)\n",
    "\n",
    "print(f\"Arquivo exportado com sucesso: {output_csv}\")"
   ]
  }
 ],
 "metadata": {
  "kernelspec": {
   "display_name": "Python 3",
   "language": "python",
   "name": "python3"
  },
  "language_info": {
   "codemirror_mode": {
    "name": "ipython",
    "version": 3
   },
   "file_extension": ".py",
   "mimetype": "text/x-python",
   "name": "python",
   "nbconvert_exporter": "python",
   "pygments_lexer": "ipython3",
   "version": "3.12.7"
  }
 },
 "nbformat": 4,
 "nbformat_minor": 2
}
